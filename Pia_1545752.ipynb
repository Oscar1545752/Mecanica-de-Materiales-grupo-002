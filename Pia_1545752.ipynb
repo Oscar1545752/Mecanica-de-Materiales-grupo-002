{
  "nbformat": 4,
  "nbformat_minor": 0,
  "metadata": {
    "colab": {
      "name": "Pia 1545752.ipynb",
      "provenance": [],
      "collapsed_sections": [],
      "authorship_tag": "ABX9TyOPySdsoM9yyUZSz/DPPeGr",
      "include_colab_link": true
    },
    "kernelspec": {
      "name": "python3",
      "display_name": "Python 3"
    },
    "language_info": {
      "name": "python"
    }
  },
  "cells": [
    {
      "cell_type": "markdown",
      "metadata": {
        "id": "view-in-github",
        "colab_type": "text"
      },
      "source": [
        "<a href=\"https://colab.research.google.com/github/Oscar1545752/Mecanica-de-Materiales-grupo-002/blob/main/Pia_1545752.ipynb\" target=\"_parent\"><img src=\"https://colab.research.google.com/assets/colab-badge.svg\" alt=\"Open In Colab\"/></a>"
      ]
    },
    {
      "cell_type": "markdown",
      "source": [
        "# -Mecanica de Materiales-\n",
        "Producto Integrador de Aprendizaje\n",
        "\n",
        "Oscar Alejandro Chapa Davila, matricula: 1545752, hora: V1-V3, grupo: 002\n",
        "\n",
        "Docente: Daniela Turrubiates Gutierrez\n",
        "Intersemestral 2022 "
      ],
      "metadata": {
        "id": "F0KYf2mlBDDn"
      }
    },
    {
      "cell_type": "markdown",
      "source": [
        "**1.2** Dos barras cilíndricas sólidas, AB y BC, están soldadas en B y cargadas como se muestra. Si se sabe que d1= 50 mm y d2= 30mm, encuentre el esfuerzo normal promedio en la seccion media de:\n",
        "a) barra ab\n",
        "b) barra bc"
      ],
      "metadata": {
        "id": "oHcPBlh2DZI8"
      }
    },
    {
      "cell_type": "code",
      "source": [
        "print(\"Buen dia C:\")\n",
        "num_elem = input(\"Cuantos elementos tiene la pieza: \")\n",
        "orientacion_fuerza = input(\"Todas van las fuerzas apuntan hacia el mismo lado (1 para si y 0 para no): \")\n",
        "fuerza_ab = float(input(\"Cual es el valor de la fuerza de ab en N: \"))\n",
        "area_ab = 3.14*(50**2)/4\n",
        "esf_ab = fuerza_ab/area_ab\n",
        "fuerza_bc = float(input(\"Cual es el valor de la fuerza de bc en N: \"))\n",
        "area_bc = 3.14*(30**2)/4\n",
        "esf_bc = fuerza_bc/area_bc\n",
        "print('el esfuerzo en la barra ab es: ',esf_ab, 'MPa')\n",
        "print('el esfuerzo en la barra bc es: ',esf_bc, 'MPa')\n"
      ],
      "metadata": {
        "colab": {
          "base_uri": "https://localhost:8080/"
        },
        "id": "1ioWFqIFFROR",
        "outputId": "4945e668-f4a5-49ff-a11f-877003e16e43"
      },
      "execution_count": 18,
      "outputs": [
        {
          "output_type": "stream",
          "name": "stdout",
          "text": [
            "Buen dia C:\n",
            "Cuantos elementos tiene la pieza: 2\n",
            "Todas van las fuerzas apuntan hacia el mismo lado (1 para si y 0 para no): 1\n",
            "Cual es el valor de la fuerza de ab en N: 70000\n",
            "Cual es el valor de la fuerza de bc en N: 30000\n",
            "el esfuerzo en la barra ab es:  35.6687898089172 MPa\n",
            "el esfuerzo en la barra bc es:  42.46284501061571 MPa\n"
          ]
        }
      ]
    },
    {
      "cell_type": "markdown",
      "source": [
        "**1.4** Dos barras cilíndricas sólidas, AB y BC, están soldadas en B y cargadas como se muestra. Si se sabe que P= 40kips.Determine el esfuerzo normal promedio en la seccion media de:\n",
        "a)barra ab\n",
        "b)barra bc"
      ],
      "metadata": {
        "id": "_boX9zdFFRqu"
      }
    },
    {
      "cell_type": "code",
      "source": [
        "print(\"Buen dia C:\")\n",
        "num_elem = input(\"Cuantos elementos tiene la pieza: \")\n",
        "orientacion_fuerza = input(\"Todas van las fuerzas apuntan hacia el mismo lado (1 para si y 0 para no): \")\n",
        "fuerza_ab = float(input(\"Cual es el valor de la fuerza de ab en kips: \"))\n",
        "area_ab = 3.14*(2**2)/4\n",
        "esf_ab = fuerza_ab/area_ab\n",
        "fuerza_bc = float(input(\"Cual es el valor de la fuerza de bc en kips: \"))\n",
        "area_bc = 3.14*(3**2)/4\n",
        "esf_bc = fuerza_bc/area_bc\n",
        "print('el esfuerzo en la barra ab es: ',esf_ab, 'ksi')\n",
        "print('el esfuerzo en la barra bc es: ',esf_bc, 'ksi')"
      ],
      "metadata": {
        "id": "2EKvFqNSItjJ",
        "outputId": "cda927b4-85f8-4049-d5d3-a62805a2be37",
        "colab": {
          "base_uri": "https://localhost:8080/"
        }
      },
      "execution_count": 34,
      "outputs": [
        {
          "output_type": "stream",
          "name": "stdout",
          "text": [
            "Buen dia C:\n",
            "Cuantos elementos tiene la pieza: 2\n",
            "Todas van las fuerzas apuntan hacia el mismo lado (1 para si y 0 para no): 0\n",
            "Cual es el valor de la fuerza de ab en kips: 40\n",
            "Cual es el valor de la fuerza de bc en kips: -20\n",
            "el esfuerzo en la barra ab es:  12.738853503184712 ksi\n",
            "el esfuerzo en la barra bc es:  -2.830856334041047 ksi\n"
          ]
        }
      ]
    }
  ]
}